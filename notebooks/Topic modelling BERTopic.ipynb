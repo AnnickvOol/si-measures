{
 "cells": [
  {
   "cell_type": "code",
   "execution_count": 1,
   "id": "1566dea1",
   "metadata": {},
   "outputs": [],
   "source": [
    "from bertopic import BERTopic\n",
    "from flair.embeddings import TransformerDocumentEmbeddings\n",
    "import os\n",
    "from os.path import join\n",
    "import pandas as pd\n",
    "from sentence_transformers import SentenceTransformer\n",
    "from sklearn.datasets import fetch_20newsgroups\n",
    "from sklearn.feature_extraction.text import CountVectorizer\n",
    "from umap import UMAP\n",
    "import warnings\n",
    "warnings.filterwarnings('ignore')\n",
    "\n",
    "from nltk.corpus import stopwords\n",
    "stopwords_nl = stopwords.words('dutch')\n",
    "stopwords_nl = stopwords_nl + ['2016','2017','2018','2019','2020','2021','2022','50','we','ten','opzichte','daardoor','for','verder','ervoor','daardoor','per','vooral']"
   ]
  },
  {
   "cell_type": "code",
   "execution_count": 9,
   "id": "7e20c704",
   "metadata": {},
   "outputs": [],
   "source": [
    "OUTPUT_DATA_PATH = join('..','data','output','')\n",
    "MODEL_PATH = join('..','data','models','bertopic','')"
   ]
  },
  {
   "cell_type": "markdown",
   "id": "0eacdc74",
   "metadata": {},
   "source": [
    "### Own data"
   ]
  },
  {
   "cell_type": "code",
   "execution_count": 10,
   "id": "13ae7243",
   "metadata": {},
   "outputs": [],
   "source": [
    "#Import sentences\n",
    "df = pd.read_excel(OUTPUT_DATA_PATH + 'df_results_mvb_big_prediction.xlsx',index_col=0)\n",
    "df = df[df.prediction==1]"
   ]
  },
  {
   "cell_type": "code",
   "execution_count": 11,
   "id": "ea290cc9",
   "metadata": {},
   "outputs": [],
   "source": [
    "docs = []\n",
    "for sen in df['dnb_nlp:sentence']:\n",
    "    docs.append(sen)"
   ]
  },
  {
   "cell_type": "code",
   "execution_count": null,
   "id": "59040214",
   "metadata": {},
   "outputs": [],
   "source": [
    "# The same embedding model needs to be used for both topic models\n",
    "# and since we are dealing with multiple languages, the model needs to be multi-lingual\n",
    "sentence_model = SentenceTransformer(\"paraphrase-multilingual-MiniLM-L12-v2\")\n",
    "# To make this example reproducible\n",
    "umap_model = UMAP(n_neighbors=200, n_components=5, \n",
    "                  min_dist=0.0, metric='cosine', random_state=42)\n",
    "\n",
    "# Dutch\n",
    "vectorizer_model = CountVectorizer(stop_words=stopwords_nl)\n",
    "topic_model = BERTopic(embedding_model=sentence_model,umap_model=umap_model,vectorizer_model=vectorizer_model,min_topic_size=25)\n",
    "topics, probs = topic_model.fit_transform(docs)\n",
    "\n",
    "topic_model.save(MODEL_PATH + \"bertopic_model_mvb\") #save topic model\n",
    "topic_model.get_topic_info()"
   ]
  },
  {
   "cell_type": "code",
   "execution_count": null,
   "id": "7100ebfa",
   "metadata": {},
   "outputs": [],
   "source": [
    "topic_model.reduce_topics(docs, topics, nr_topics=50)\n",
    "topic_model.save(MODEL_PATH + \"bertopic_model_mvb\") #save topic model\n",
    "topic_model.get_topic_info()"
   ]
  }
 ],
 "metadata": {
  "kernelspec": {
   "display_name": "Python 3",
   "language": "python",
   "name": "python3"
  },
  "language_info": {
   "codemirror_mode": {
    "name": "ipython",
    "version": 3
   },
   "file_extension": ".py",
   "mimetype": "text/x-python",
   "name": "python",
   "nbconvert_exporter": "python",
   "pygments_lexer": "ipython3",
   "version": "3.8.8"
  },
  "vscode": {
   "interpreter": {
    "hash": "4fd2337481a9c9b1575af40d6830e6c982d367f692652ca4814c63d85624682b"
   }
  }
 },
 "nbformat": 4,
 "nbformat_minor": 5
}
