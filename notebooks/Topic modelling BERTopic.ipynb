{
 "cells": [
  {
   "cell_type": "code",
   "execution_count": null,
   "id": "e6947a0a",
   "metadata": {},
   "outputs": [],
   "source": [
    "from bertopic import BERTopic\n",
    "from flair.embeddings import TransformerDocumentEmbeddings\n",
    "import os\n",
    "from os.path import join\n",
    "import pandas as pd\n",
    "from sentence_transformers import SentenceTransformer\n",
    "from sklearn.datasets import fetch_20newsgroups\n",
    "from sklearn.feature_extraction.text import CountVectorizer\n",
    "from umap import UMAP\n",
    "import warnings\n",
    "warnings.filterwarnings('ignore')\n",
    "\n",
    "from nltk.corpus import stopwords\n",
    "stopwords_nl = stopwords.words('dutch')\n",
    "stopwords_nl = stopwords_nl + ['2016','2017','2018','2019','2020','2021','2022','50','we','ten','opzichte','daardoor','for','verder','ervoor','daardoor','per','vooral']"
   ]
  },
  {
   "cell_type": "code",
   "execution_count": null,
   "id": "d63d81fc",
   "metadata": {},
   "outputs": [],
   "source": [
    "OUTPUT_DATA_PATH = join('..','data','output','')\n",
    "MODEL_PATH = join('..','data','models','Bertopic','')"
   ]
  },
  {
   "cell_type": "markdown",
   "id": "cebc8807",
   "metadata": {},
   "source": [
    "### Own data"
   ]
  },
  {
   "cell_type": "code",
   "execution_count": null,
   "id": "a3d34edd",
   "metadata": {},
   "outputs": [],
   "source": [
    "#Import sentences\n",
    "df = pd.read_excel(OUTPUT_DATA_PATH + 'df_results_mvb_big_sen_pred.xlsx',index_col=0)\n",
    "df = df[df.prediction==1]"
   ]
  },
  {
   "cell_type": "code",
   "execution_count": null,
   "id": "b18016d6",
   "metadata": {},
   "outputs": [],
   "source": [
    "docs = []\n",
    "for sen in df['dnb_nlp:formatted']:\n",
    "    docs.append(sen)"
   ]
  },
  {
   "cell_type": "code",
   "execution_count": null,
   "id": "d5ed580a",
   "metadata": {},
   "outputs": [],
   "source": [
    "# The same embedding model needs to be used for both topic models\n",
    "# and since we are dealing with multiple languages, the model needs to be multi-lingual\n",
    "sentence_model = SentenceTransformer(\"paraphrase-multilingual-MiniLM-L12-v2\")\n",
    "# To make this example reproducible\n",
    "umap_model = UMAP(n_neighbors=200, n_components=5, \n",
    "                  min_dist=0.0, metric='cosine', random_state=42)\n",
    "\n",
    "# Dutch\n",
    "vectorizer_model = CountVectorizer(stop_words=stopwords_nl)\n",
    "topic_model = BERTopic(embedding_model=sentence_model,umap_model=umap_model,vectorizer_model=vectorizer_model,min_topic_size=25)\n",
    "topics, probs = topic_model.fit_transform(docs)\n",
    "\n",
    "topic_model.save(MODEL_PATH + \"bertopic_model_mvb_new\") #save topic model\n",
    "topic_model.get_topic_info()"
   ]
  },
  {
   "cell_type": "code",
   "execution_count": null,
   "id": "337ecbaf",
   "metadata": {},
   "outputs": [],
   "source": [
    "topic_model.reduce_topics(docs, topics, nr_topics=50)\n",
    "topic_model.save(MODEL_PATH + \"bertopic_model_mvb_50topics_new\") #save topic model\n",
    "topic_model.get_topic_info()"
   ]
  },
  {
   "cell_type": "code",
   "execution_count": null,
   "id": "06d620fc",
   "metadata": {},
   "outputs": [],
   "source": [
    "topic_model.reduce_topics(docs, topics, nr_topics=25)\n",
    "topic_model.save(MODEL_PATH + \"bertopic_model_mvb_reducedtopics_new\") #save topic model\n",
    "topic_model.get_topic_info()"
   ]
  },
  {
   "cell_type": "code",
   "execution_count": null,
   "id": "80d295bc",
   "metadata": {},
   "outputs": [],
   "source": [
    "# #topic_model = BERTopic.load(MODEL_PATH + \"bertopic_model_mvb_new\") #load topic model"
   ]
  },
  {
   "cell_type": "code",
   "execution_count": null,
   "id": "16fbf843",
   "metadata": {},
   "outputs": [],
   "source": []
  },
  {
   "cell_type": "code",
   "execution_count": null,
   "id": "4d5ee26f",
   "metadata": {},
   "outputs": [],
   "source": [
    "topic_model.get_topics().keys()"
   ]
  },
  {
   "cell_type": "code",
   "execution_count": null,
   "id": "ab482ed7",
   "metadata": {},
   "outputs": [],
   "source": [
    "# #Visualize topic model\n",
    "# #topic_model.visualize_topics()\n",
    "# #topic_model.visualize_heatmap()\n",
    "topic_model.visualize_barchart()"
   ]
  },
  {
   "cell_type": "code",
   "execution_count": null,
   "id": "c76581ac",
   "metadata": {},
   "outputs": [],
   "source": [
    "topic_model = BERTopic.load(MODEL_PATH + \"bertopic_model_mvb_new\") #load topic model\n",
    "#topic_model.visualize_barchart()"
   ]
  },
  {
   "cell_type": "code",
   "execution_count": null,
   "id": "6f59bfb0",
   "metadata": {},
   "outputs": [],
   "source": [
    "topic_model.get_topics()"
   ]
  },
  {
   "cell_type": "code",
   "execution_count": null,
   "id": "a9620971",
   "metadata": {},
   "outputs": [],
   "source": [
    "dft = topic_model.get_topic_info()\n",
    "dft"
   ]
  },
  {
   "cell_type": "code",
   "execution_count": null,
   "id": "759c4b03",
   "metadata": {},
   "outputs": [],
   "source": [
    "#CODE CUSTOMIZED VISUALIZE_BARCHART FIGURE\n",
    "\n",
    "import itertools\n",
    "import numpy as np\n",
    "from typing import List\n",
    "\n",
    "import plotly.graph_objects as go\n",
    "from plotly.subplots import make_subplots\n",
    "\n",
    "\n",
    "def visualize_barchart(topic_model,\n",
    "                       topics: List[int] = None,\n",
    "                       top_n_topics: int = 8,\n",
    "                       n_words: int = 10,\n",
    "                       custom_labels: bool = False,\n",
    "                       title: str = \"Topic Word Scores\",\n",
    "                       width: int = 250,\n",
    "                       height: int = 250) -> go.Figure:\n",
    "    \"\"\" Visualize a barchart of selected topics\n",
    "    Arguments:\n",
    "        topic_model: A fitted BERTopic instance.\n",
    "        topics: A selection of topics to visualize.\n",
    "        top_n_topics: Only select the top n most frequent topics.\n",
    "        n_words: Number of words to show in a topic\n",
    "        custom_labels: Whether to use custom topic labels that were defined using \n",
    "                       `topic_model.set_topic_labels`.\n",
    "        title: Title of the plot.\n",
    "        width: The width of each figure.\n",
    "        height: The height of each figure.\n",
    "    Returns:\n",
    "        fig: A plotly figure\n",
    "    Examples:\n",
    "    To visualize the barchart of selected topics\n",
    "    simply run:\n",
    "    ```python\n",
    "    topic_model.visualize_barchart()\n",
    "    ```\n",
    "    Or if you want to save the resulting figure:\n",
    "    ```python\n",
    "    fig = topic_model.visualize_barchart()\n",
    "    fig.write_html(\"path/to/file.html\")\n",
    "    ```\n",
    "    <iframe src=\"../../getting_started/visualization/bar_chart.html\"\n",
    "    style=\"width:1100px; height: 660px; border: 0px;\"\"></iframe>\n",
    "    \"\"\"\n",
    "    colors = itertools.cycle([\"#D55E00\", \"#0072B2\", \"#CC79A7\", \"#E69F00\", \"#56B4E9\", \"#009E73\", \"#F0E442\"])\n",
    "\n",
    "    # Select topics based on top_n and topics args\n",
    "    freq_df = topic_model.get_topic_freq()\n",
    "    freq_df = freq_df.loc[freq_df.Topic != -1, :]\n",
    "    if topics is not None:\n",
    "        topics = list(topics)\n",
    "    elif top_n_topics is not None:\n",
    "        topics = sorted(freq_df.Topic.to_list()[:top_n_topics])\n",
    "    else:\n",
    "        topics = sorted(freq_df.Topic.to_list()[0:6])\n",
    "\n",
    "    # Initialize figure\n",
    "    if topic_model.custom_labels is not None and custom_labels:\n",
    "        subplot_titles = [topic_model.custom_labels[topic + topic_model._outliers] for topic in topics]\n",
    "    else:\n",
    "        subplot_titles = [f\"Topic {topic}\" for topic in topics]\n",
    "    columns = 3\n",
    "    rows = int(np.ceil(len(topics) / columns))\n",
    "    fig = make_subplots(rows=rows,\n",
    "                        cols=columns,\n",
    "                        shared_xaxes=False,\n",
    "                        horizontal_spacing=.1,\n",
    "                        vertical_spacing=.4 / rows if rows > 1 else 0,\n",
    "                        subplot_titles=subplot_titles)\n",
    "\n",
    "    # Add barchart for each topic\n",
    "    row = 1\n",
    "    column = 1\n",
    "    for topic in topics:\n",
    "        words = [word + \"  \" for word, _ in topic_model.get_topic(topic)][:n_words][::-1]\n",
    "        scores = [score for _, score in topic_model.get_topic(topic)][:n_words][::-1]\n",
    "\n",
    "        fig.add_trace(\n",
    "            go.Bar(x=scores,\n",
    "                   y=words,\n",
    "                   orientation='h',\n",
    "                   marker_color=next(colors)),\n",
    "            row=row, col=column)\n",
    "\n",
    "        if column == columns:\n",
    "            column = 1\n",
    "            row += 1\n",
    "        else:\n",
    "            column += 1\n",
    "\n",
    "    # Stylize graph\n",
    "    fig.update_layout(\n",
    "        template=\"plotly_white\",\n",
    "        showlegend=False,\n",
    "        title={\n",
    "            'text': f\"<b>{title}\",\n",
    "            'x': .5,\n",
    "            'xanchor': 'center',\n",
    "            'yanchor': 'top',\n",
    "            'font': dict(\n",
    "                size=22,\n",
    "                color=\"Black\")\n",
    "        },\n",
    "        width=width*4,\n",
    "        height=height*rows if rows > 1 else height * 1.3,\n",
    "        hoverlabel=dict(\n",
    "            bgcolor=\"white\",\n",
    "            font_size=16,\n",
    "            font_family=\"Rockwell\"\n",
    "        ),\n",
    "    )\n",
    "\n",
    "    fig.update_xaxes(showgrid=True)\n",
    "    fig.update_yaxes(showgrid=True)\n",
    "\n",
    "    return fig\n",
    "\n",
    "visualize_barchart(topic_model,topics=[25,26,27,28,29,30],custom_labels=True)"
   ]
  },
  {
   "cell_type": "code",
   "execution_count": null,
   "id": "e6cc6c7f",
   "metadata": {},
   "outputs": [],
   "source": [
    "#Analyze topic model\n",
    "# topic_model.get_topic(3)#get words of certain topic\n",
    "# topic_model.find_topics(\"vehicle\")#get topics to which certain word belongs\n",
    "# topic_model.transform([docs[103]])\n",
    "# topic_model.reduce_topics(docs, topics, nr_topics=25)\n",
    "# topic_model.get_representative_docs()\n",
    "# topic_model.merge_topics(docs, topics, [-1,13]) \n",
    "# #Topics to merge: [1,2] or [[1, 2], [3, 4]]\n",
    "# #NB topics should be list of topic numbers for each doc in docs"
   ]
  }
 ],
 "metadata": {
  "kernelspec": {
   "display_name": "Python 3",
   "language": "python",
   "name": "python3"
  },
  "language_info": {
   "codemirror_mode": {
    "name": "ipython",
    "version": 3
   },
   "file_extension": ".py",
   "mimetype": "text/x-python",
   "name": "python",
   "nbconvert_exporter": "python",
   "pygments_lexer": "ipython3",
   "version": "3.8.8"
  },
  "vscode": {
   "interpreter": {
    "hash": "4fd2337481a9c9b1575af40d6830e6c982d367f692652ca4814c63d85624682b"
   }
  }
 },
 "nbformat": 4,
 "nbformat_minor": 5
}
