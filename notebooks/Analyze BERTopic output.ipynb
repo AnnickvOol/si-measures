{
 "cells": [
  {
   "cell_type": "markdown",
   "id": "c576e09e",
   "metadata": {},
   "source": [
    "### Import packages"
   ]
  },
  {
   "cell_type": "code",
   "execution_count": 1,
   "id": "54d2438e",
   "metadata": {},
   "outputs": [],
   "source": [
    "from bertopic import BERTopic\n",
    "import os\n",
    "from os.path import join\n",
    "import pandas as pd\n",
    "import matplotlib.pyplot as plt\n",
    "import itertools\n",
    "import numpy as np\n",
    "from typing import List\n",
    "import plotly.graph_objects as go\n",
    "from plotly.subplots import make_subplots\n",
    "\n",
    "import warnings\n",
    "warnings.filterwarnings('ignore')\n",
    "\n",
    "OUTPUT_DATA_PATH = join('..','data','output','')\n",
    "MODEL_PATH = join('..','data','models','Bertopic','')"
   ]
  },
  {
   "cell_type": "markdown",
   "id": "630d64db",
   "metadata": {},
   "source": [
    "### Customized function"
   ]
  },
  {
   "cell_type": "code",
   "execution_count": 30,
   "id": "20d779e3",
   "metadata": {},
   "outputs": [],
   "source": [
    "def visualize_barchart(topic_model,\n",
    "                       topics: List[int] = None,\n",
    "                       top_n_topics: int = 8,\n",
    "                       n_words: int = 5,\n",
    "                       custom_labels: bool = False,\n",
    "                       title: str = \"Topic Word Scores\",\n",
    "                       width: int = 300,\n",
    "                       height: int = 300) -> go.Figure:\n",
    "    \"\"\" Visualize a barchart of selected topics\n",
    "    Arguments:\n",
    "        topic_model: A fitted BERTopic instance.\n",
    "        topics: A selection of topics to visualize.\n",
    "        top_n_topics: Only select the top n most frequent topics.\n",
    "        n_words: Number of words to show in a topic\n",
    "        custom_labels: Whether to use custom topic labels that were defined using \n",
    "                       `topic_model.set_topic_labels`.\n",
    "        title: Title of the plot.\n",
    "        width: The width of each figure.\n",
    "        height: The height of each figure.\n",
    "    Returns:\n",
    "        fig: A plotly figure\n",
    "    Examples:\n",
    "    To visualize the barchart of selected topics\n",
    "    simply run:\n",
    "    ```python\n",
    "    topic_model.visualize_barchart()\n",
    "    ```\n",
    "    Or if you want to save the resulting figure:\n",
    "    ```python\n",
    "    fig = topic_model.visualize_barchart()\n",
    "    fig.write_html(\"path/to/file.html\")\n",
    "    ```\n",
    "    <iframe src=\"../../getting_started/visualization/bar_chart.html\"\n",
    "    style=\"width:1100px; height: 660px; border: 0px;\"\"></iframe>\n",
    "    \"\"\"\n",
    "    colors = itertools.cycle(['#929591','#929591','#929591','#929591','#929591','#929591','#929591'])\n",
    "    #[\"#D55E00\", \"#0072B2\", \"#CC79A7\", \"#E69F00\", \"#56B4E9\", \"#009E73\", \"#F0E442\"]\n",
    "    \n",
    "    # Select topics based on top_n and topics args\n",
    "    freq_df = topic_model.get_topic_freq()\n",
    "    freq_df = freq_df.loc[freq_df.Topic != -1, :]\n",
    "    if topics is not None:\n",
    "        topics = list(topics)\n",
    "    elif top_n_topics is not None:\n",
    "        topics = sorted(freq_df.Topic.to_list()[:top_n_topics])\n",
    "    else:\n",
    "        topics = sorted(freq_df.Topic.to_list()[0:6])\n",
    "\n",
    "    # Initialize figure\n",
    "    if topic_model.custom_labels is not None and custom_labels:\n",
    "        #subplot_titles = [topic_model.custom_labels[topic + topic_model._outliers] for topic in topics]\n",
    "        subplot_titles = [dict_w[topic_model.custom_labels[topic + topic_model._outliers]] for topic in topics]\n",
    "    else:\n",
    "        subplot_titles = [f\"Topic {topic}\" for topic in topics]\n",
    "    columns = 3\n",
    "    rows = int(np.ceil(len(topics) / columns))\n",
    "    fig = make_subplots(rows=rows,\n",
    "                        cols=columns,\n",
    "                        shared_xaxes=False,\n",
    "                        horizontal_spacing=.13,\n",
    "                        vertical_spacing=.4 / rows if rows > 1 else 0,\n",
    "                        subplot_titles=subplot_titles)\n",
    "\n",
    "    # Add barchart for each topic\n",
    "    row = 1\n",
    "    column = 1\n",
    "    for topic in topics:\n",
    "        #words = [word + \"  \" for word, _ in topic_model.get_topic(topic)][:n_words][::-1]\n",
    "        words = [dict_w[word] + \"  \" for word, _ in topic_model.get_topic(topic)[:n_words][::-1]]\n",
    "        scores = [score for _, score in topic_model.get_topic(topic)[:n_words][::-1]]\n",
    "\n",
    "        fig.add_trace(\n",
    "            go.Bar(x=scores,\n",
    "                   y=words,\n",
    "                   orientation='h',\n",
    "                   marker_color=next(colors)),\n",
    "            row=row, col=column)\n",
    "\n",
    "        if column == columns:\n",
    "            column = 1\n",
    "            row += 1\n",
    "        else:\n",
    "            column += 1\n",
    "\n",
    "    # Stylize graph\n",
    "    fig.update_layout(\n",
    "        template=\"plotly_white\",\n",
    "        showlegend=False,\n",
    "        title={\n",
    "            'text': f\"<b>{title}\",\n",
    "            'x': .5,\n",
    "            'xanchor': 'center',\n",
    "            'yanchor': 'top',\n",
    "            'font': dict(\n",
    "                size=22,\n",
    "                color=\"Black\")\n",
    "        },\n",
    "        width=width*4,\n",
    "        height=height*rows if rows > 1 else height * 1.3,\n",
    "        hoverlabel=dict(\n",
    "            bgcolor=\"white\",\n",
    "            font_size=12,\n",
    "            font_family=\"Rockwell\"\n",
    "        ),\n",
    "    )\n",
    "\n",
    "    fig.update_xaxes(showgrid=True)\n",
    "    fig.update_yaxes(showgrid=True)\n",
    "\n",
    "    return fig"
   ]
  },
  {
   "cell_type": "code",
   "execution_count": 3,
   "id": "801dab64",
   "metadata": {},
   "outputs": [],
   "source": [
    "dict_w = {'aandeelhoudersvergaderingen': 'shareholder meetings','aangaan':'engage','anti':'anti',\n",
    "          'arbeidsrechten':'labour rights','biologische':'biological','bonds':'bonds',\n",
    "          'chemische':'chemical','co2': 'co2', 'CO2_uitstoot':'co2 emissions', 'controversiële':'controversial','convenant':'agreement', \n",
    "          'corruptie':'corruption','dialoog':'dialogue','duurzame':'sustainable',\n",
    "          'energietransitie':'energy transition','energie':'energy','engagement':'engagement','green':'green',\n",
    "          'greenwashing':'greenwashing','groene':'financing',\n",
    "          'groene obligaties':'green bonds','hermes':'hermes','hernieuwbare':'renewable',\n",
    "          'IMVB':'IRBC',\n",
    "          'imvb':'irbc',\n",
    "          'intensiteit': 'intensity','internationaal':'international','kansen':'possibilities', \n",
    "          'klimaat': 'climate', \n",
    "          'klimaatverandering': 'climate change', 'klimaatrisico':'climate risk','mensenrechten':'human rights',\n",
    "          'milieu':'environment','nucleaire':'nuclear','obligaties':'projects','ondertekend':'signed',\n",
    "          'pensioenfondsen':'pension funds','ondernemingen':'companies',\n",
    "          'reductie': 'reduction', 'risico': 'risk', 'stemmen':'voting','stemrecht':'voting right',\n",
    "          'uitstoot': 'emission','gevoerd':'having','voetafdruk': 'footprint',\n",
    "          'wapens':'weapons','zonne':'solar'}"
   ]
  },
  {
   "cell_type": "markdown",
   "id": "8e635e89",
   "metadata": {},
   "source": [
    "### Import data"
   ]
  },
  {
   "cell_type": "code",
   "execution_count": 4,
   "id": "67599131",
   "metadata": {},
   "outputs": [
    {
     "data": {
      "text/html": [
       "<div>\n",
       "<style scoped>\n",
       "    .dataframe tbody tr th:only-of-type {\n",
       "        vertical-align: middle;\n",
       "    }\n",
       "\n",
       "    .dataframe tbody tr th {\n",
       "        vertical-align: top;\n",
       "    }\n",
       "\n",
       "    .dataframe thead th {\n",
       "        text-align: right;\n",
       "    }\n",
       "</style>\n",
       "<table border=\"1\" class=\"dataframe\">\n",
       "  <thead>\n",
       "    <tr style=\"text-align: right;\">\n",
       "      <th></th>\n",
       "      <th>Topic</th>\n",
       "      <th>Count</th>\n",
       "      <th>Name</th>\n",
       "    </tr>\n",
       "  </thead>\n",
       "  <tbody>\n",
       "    <tr>\n",
       "      <th>0</th>\n",
       "      <td>-1</td>\n",
       "      <td>19001</td>\n",
       "      <td>-1_esg_bedrijven_fonds_beleggen</td>\n",
       "    </tr>\n",
       "    <tr>\n",
       "      <th>1</th>\n",
       "      <td>0</td>\n",
       "      <td>2971</td>\n",
       "      <td>0_verantwoord_beleggen_mvb_maatschappelijk</td>\n",
       "    </tr>\n",
       "    <tr>\n",
       "      <th>2</th>\n",
       "      <td>1</td>\n",
       "      <td>2872</td>\n",
       "      <td>1_pensioenfonds_maatschappelijk_pensioen_veran...</td>\n",
       "    </tr>\n",
       "    <tr>\n",
       "      <th>3</th>\n",
       "      <td>2</td>\n",
       "      <td>1341</td>\n",
       "      <td>2_co2_uitstoot_voetafdruk_reductie</td>\n",
       "    </tr>\n",
       "    <tr>\n",
       "      <th>4</th>\n",
       "      <td>3</td>\n",
       "      <td>1118</td>\n",
       "      <td>3_mvb_beleid_verantwoord_bestuur</td>\n",
       "    </tr>\n",
       "  </tbody>\n",
       "</table>\n",
       "</div>"
      ],
      "text/plain": [
       "   Topic  Count                                               Name\n",
       "0     -1  19001                    -1_esg_bedrijven_fonds_beleggen\n",
       "1      0   2971         0_verantwoord_beleggen_mvb_maatschappelijk\n",
       "2      1   2872  1_pensioenfonds_maatschappelijk_pensioen_veran...\n",
       "3      2   1341                 2_co2_uitstoot_voetafdruk_reductie\n",
       "4      3   1118                   3_mvb_beleid_verantwoord_bestuur"
      ]
     },
     "execution_count": 4,
     "metadata": {},
     "output_type": "execute_result"
    }
   ],
   "source": [
    "#Import sentences\n",
    "df = pd.read_excel(OUTPUT_DATA_PATH + 'sentences_spectrum_measure_incl_topiclabel.xlsx',index_col=0)\n",
    "\n",
    "topic_model = BERTopic.load(MODEL_PATH + \"bertopic_model_mvb_50topics_new\",embedding_model=\"paraphrase-multilingual-MiniLM-L12-v2\")\n",
    "topic_model.get_topic_info().head()\n",
    "\n",
    "#Apply topic model to sentences (not needed since df already contains topic numbers)\n",
    "# docs = []\n",
    "# for sen in df['dnb_nlp:formatted']:\n",
    "#     docs.append(sen)\n",
    "    \n",
    "# topics, probs = topic_model.transform(docs)\n",
    "# df['topic_number'] = topics"
   ]
  },
  {
   "cell_type": "markdown",
   "id": "8dbbf4e4",
   "metadata": {},
   "source": [
    "### Analyze results"
   ]
  },
  {
   "cell_type": "code",
   "execution_count": 9,
   "id": "3b9bb103",
   "metadata": {},
   "outputs": [],
   "source": [
    "#topic_model.get_topic_info()\n",
    "#topic_model.get_topic(48)\n",
    "#0:[0,1,3,8,11],10:[10,12,24,35,47],9:[9,40],27:[27,36],17:[17,38],13:[13,33],25:[25,31],28:[28,34,49],26:[26,46],5:[5,15]"
   ]
  },
  {
   "cell_type": "code",
   "execution_count": 31,
   "id": "422c0b30",
   "metadata": {},
   "outputs": [
    {
     "data": {
      "application/vnd.plotly.v1+json": {
       "config": {
        "plotlyServerURL": "https://plot.ly"
       },
       "data": [
        {
         "marker": {
          "color": "#929591"
         },
         "orientation": "h",
         "type": "bar",
         "x": [
          0.028111412256488777,
          0.0400705380381906,
          0.044185758099783985,
          0.10637770544947765,
          0.12498007798223576
         ],
         "xaxis": "x",
         "y": [
          "intensity  ",
          "reduction  ",
          "footprint  ",
          "emission  ",
          "co2  "
         ],
         "yaxis": "y"
        },
        {
         "marker": {
          "color": "#929591"
         },
         "orientation": "h",
         "type": "bar",
         "x": [
          0.025552694831623948,
          0.03630068067583029,
          0.041887918807445086,
          0.06705247908477674,
          0.10449278108739106
         ],
         "xaxis": "x2",
         "y": [
          "possibilities  ",
          "risk  ",
          "climate  ",
          "climate risk  ",
          "climate change  "
         ],
         "yaxis": "y2"
        },
        {
         "marker": {
          "color": "#929591"
         },
         "orientation": "h",
         "type": "bar",
         "x": [
          0.05242893210763291,
          0.0934420129280291,
          0.10359557461916803,
          0.2097633020870658,
          0.22713830263564858
         ],
         "xaxis": "x3",
         "y": [
          "pension funds  ",
          "signed  ",
          "international  ",
          "irbc  ",
          "agreement  "
         ],
         "yaxis": "y3"
        },
        {
         "marker": {
          "color": "#929591"
         },
         "orientation": "h",
         "type": "bar",
         "x": [
          0.059966610390917836,
          0.06030034089975471,
          0.06061736440087872,
          0.07686067749925674,
          0.15661633253349494
         ],
         "xaxis": "x4",
         "y": [
          "anti  ",
          "labour rights  ",
          "environment  ",
          "corruption  ",
          "human rights  "
         ],
         "yaxis": "y4"
        },
        {
         "marker": {
          "color": "#929591"
         },
         "orientation": "h",
         "type": "bar",
         "x": [
          0.05159608323721487,
          0.05489877257054603,
          0.07383936940703381,
          0.08960586316988653,
          0.11145845859402576
         ],
         "xaxis": "x5",
         "y": [
          "engagement  ",
          "hermes  ",
          "voting  ",
          "voting right  ",
          "shareholder meetings  "
         ],
         "yaxis": "y5"
        },
        {
         "marker": {
          "color": "#929591"
         },
         "orientation": "h",
         "type": "bar",
         "x": [
          0.0493876417913265,
          0.06583857213718432,
          0.06740451331721656,
          0.10321323066131224,
          0.1739858423742337
         ],
         "xaxis": "x6",
         "y": [
          "sustainable  ",
          "solar  ",
          "renewable  ",
          "energy transition  ",
          "energy  "
         ],
         "yaxis": "y6"
        },
        {
         "marker": {
          "color": "#929591"
         },
         "orientation": "h",
         "type": "bar",
         "x": [
          0.05181754234975353,
          0.12883225509958446,
          0.14412098062314302,
          0.19484064995007752,
          0.22656221123873857
         ],
         "xaxis": "x7",
         "y": [
          "greenwashing  ",
          "projects  ",
          "financing  ",
          "bonds  ",
          "green  "
         ],
         "yaxis": "y7"
        },
        {
         "marker": {
          "color": "#929591"
         },
         "orientation": "h",
         "type": "bar",
         "x": [
          0.05253618130786636,
          0.07021751475203551,
          0.08116962957788032,
          0.08408339415173953,
          0.17741244006821116
         ],
         "xaxis": "x8",
         "y": [
          "having  ",
          "companies  ",
          "engage  ",
          "engagement  ",
          "dialogue  "
         ],
         "yaxis": "y8"
        },
        {
         "marker": {
          "color": "#929591"
         },
         "orientation": "h",
         "type": "bar",
         "x": [
          0.06589295685109782,
          0.06832783480607156,
          0.06868408701754566,
          0.09492313553145872,
          0.19279517099028223
         ],
         "xaxis": "x9",
         "y": [
          "nuclear  ",
          "chemical  ",
          "biological  ",
          "controversial  ",
          "weapons  "
         ],
         "yaxis": "y9"
        }
       ],
       "layout": {
        "annotations": [
         {
          "font": {
           "size": 16
          },
          "showarrow": false,
          "text": "co2 emissions",
          "x": 0.12333333333333334,
          "xanchor": "center",
          "xref": "paper",
          "y": 1,
          "yanchor": "bottom",
          "yref": "paper"
         },
         {
          "font": {
           "size": 16
          },
          "showarrow": false,
          "text": "climate",
          "x": 0.5,
          "xanchor": "center",
          "xref": "paper",
          "y": 1,
          "yanchor": "bottom",
          "yref": "paper"
         },
         {
          "font": {
           "size": 16
          },
          "showarrow": false,
          "text": "IRBC",
          "x": 0.8766666666666667,
          "xanchor": "center",
          "xref": "paper",
          "y": 1,
          "yanchor": "bottom",
          "yref": "paper"
         },
         {
          "font": {
           "size": 16
          },
          "showarrow": false,
          "text": "human rights",
          "x": 0.12333333333333334,
          "xanchor": "center",
          "xref": "paper",
          "y": 0.6222222222222222,
          "yanchor": "bottom",
          "yref": "paper"
         },
         {
          "font": {
           "size": 16
          },
          "showarrow": false,
          "text": "voting",
          "x": 0.5,
          "xanchor": "center",
          "xref": "paper",
          "y": 0.6222222222222222,
          "yanchor": "bottom",
          "yref": "paper"
         },
         {
          "font": {
           "size": 16
          },
          "showarrow": false,
          "text": "energy transition",
          "x": 0.8766666666666667,
          "xanchor": "center",
          "xref": "paper",
          "y": 0.6222222222222222,
          "yanchor": "bottom",
          "yref": "paper"
         },
         {
          "font": {
           "size": 16
          },
          "showarrow": false,
          "text": "green bonds",
          "x": 0.12333333333333334,
          "xanchor": "center",
          "xref": "paper",
          "y": 0.24444444444444446,
          "yanchor": "bottom",
          "yref": "paper"
         },
         {
          "font": {
           "size": 16
          },
          "showarrow": false,
          "text": "engagement",
          "x": 0.5,
          "xanchor": "center",
          "xref": "paper",
          "y": 0.24444444444444446,
          "yanchor": "bottom",
          "yref": "paper"
         },
         {
          "font": {
           "size": 16
          },
          "showarrow": false,
          "text": "weapons",
          "x": 0.8766666666666667,
          "xanchor": "center",
          "xref": "paper",
          "y": 0.24444444444444446,
          "yanchor": "bottom",
          "yref": "paper"
         }
        ],
        "height": 900,
        "hoverlabel": {
         "bgcolor": "white",
         "font": {
          "family": "Rockwell",
          "size": 12
         }
        },
        "showlegend": false,
        "template": {
         "data": {
          "bar": [
           {
            "error_x": {
             "color": "#2a3f5f"
            },
            "error_y": {
             "color": "#2a3f5f"
            },
            "marker": {
             "line": {
              "color": "white",
              "width": 0.5
             },
             "pattern": {
              "fillmode": "overlay",
              "size": 10,
              "solidity": 0.2
             }
            },
            "type": "bar"
           }
          ],
          "barpolar": [
           {
            "marker": {
             "line": {
              "color": "white",
              "width": 0.5
             },
             "pattern": {
              "fillmode": "overlay",
              "size": 10,
              "solidity": 0.2
             }
            },
            "type": "barpolar"
           }
          ],
          "carpet": [
           {
            "aaxis": {
             "endlinecolor": "#2a3f5f",
             "gridcolor": "#C8D4E3",
             "linecolor": "#C8D4E3",
             "minorgridcolor": "#C8D4E3",
             "startlinecolor": "#2a3f5f"
            },
            "baxis": {
             "endlinecolor": "#2a3f5f",
             "gridcolor": "#C8D4E3",
             "linecolor": "#C8D4E3",
             "minorgridcolor": "#C8D4E3",
             "startlinecolor": "#2a3f5f"
            },
            "type": "carpet"
           }
          ],
          "choropleth": [
           {
            "colorbar": {
             "outlinewidth": 0,
             "ticks": ""
            },
            "type": "choropleth"
           }
          ],
          "contour": [
           {
            "colorbar": {
             "outlinewidth": 0,
             "ticks": ""
            },
            "colorscale": [
             [
              0,
              "#0d0887"
             ],
             [
              0.1111111111111111,
              "#46039f"
             ],
             [
              0.2222222222222222,
              "#7201a8"
             ],
             [
              0.3333333333333333,
              "#9c179e"
             ],
             [
              0.4444444444444444,
              "#bd3786"
             ],
             [
              0.5555555555555556,
              "#d8576b"
             ],
             [
              0.6666666666666666,
              "#ed7953"
             ],
             [
              0.7777777777777778,
              "#fb9f3a"
             ],
             [
              0.8888888888888888,
              "#fdca26"
             ],
             [
              1,
              "#f0f921"
             ]
            ],
            "type": "contour"
           }
          ],
          "contourcarpet": [
           {
            "colorbar": {
             "outlinewidth": 0,
             "ticks": ""
            },
            "type": "contourcarpet"
           }
          ],
          "heatmap": [
           {
            "colorbar": {
             "outlinewidth": 0,
             "ticks": ""
            },
            "colorscale": [
             [
              0,
              "#0d0887"
             ],
             [
              0.1111111111111111,
              "#46039f"
             ],
             [
              0.2222222222222222,
              "#7201a8"
             ],
             [
              0.3333333333333333,
              "#9c179e"
             ],
             [
              0.4444444444444444,
              "#bd3786"
             ],
             [
              0.5555555555555556,
              "#d8576b"
             ],
             [
              0.6666666666666666,
              "#ed7953"
             ],
             [
              0.7777777777777778,
              "#fb9f3a"
             ],
             [
              0.8888888888888888,
              "#fdca26"
             ],
             [
              1,
              "#f0f921"
             ]
            ],
            "type": "heatmap"
           }
          ],
          "heatmapgl": [
           {
            "colorbar": {
             "outlinewidth": 0,
             "ticks": ""
            },
            "colorscale": [
             [
              0,
              "#0d0887"
             ],
             [
              0.1111111111111111,
              "#46039f"
             ],
             [
              0.2222222222222222,
              "#7201a8"
             ],
             [
              0.3333333333333333,
              "#9c179e"
             ],
             [
              0.4444444444444444,
              "#bd3786"
             ],
             [
              0.5555555555555556,
              "#d8576b"
             ],
             [
              0.6666666666666666,
              "#ed7953"
             ],
             [
              0.7777777777777778,
              "#fb9f3a"
             ],
             [
              0.8888888888888888,
              "#fdca26"
             ],
             [
              1,
              "#f0f921"
             ]
            ],
            "type": "heatmapgl"
           }
          ],
          "histogram": [
           {
            "marker": {
             "pattern": {
              "fillmode": "overlay",
              "size": 10,
              "solidity": 0.2
             }
            },
            "type": "histogram"
           }
          ],
          "histogram2d": [
           {
            "colorbar": {
             "outlinewidth": 0,
             "ticks": ""
            },
            "colorscale": [
             [
              0,
              "#0d0887"
             ],
             [
              0.1111111111111111,
              "#46039f"
             ],
             [
              0.2222222222222222,
              "#7201a8"
             ],
             [
              0.3333333333333333,
              "#9c179e"
             ],
             [
              0.4444444444444444,
              "#bd3786"
             ],
             [
              0.5555555555555556,
              "#d8576b"
             ],
             [
              0.6666666666666666,
              "#ed7953"
             ],
             [
              0.7777777777777778,
              "#fb9f3a"
             ],
             [
              0.8888888888888888,
              "#fdca26"
             ],
             [
              1,
              "#f0f921"
             ]
            ],
            "type": "histogram2d"
           }
          ],
          "histogram2dcontour": [
           {
            "colorbar": {
             "outlinewidth": 0,
             "ticks": ""
            },
            "colorscale": [
             [
              0,
              "#0d0887"
             ],
             [
              0.1111111111111111,
              "#46039f"
             ],
             [
              0.2222222222222222,
              "#7201a8"
             ],
             [
              0.3333333333333333,
              "#9c179e"
             ],
             [
              0.4444444444444444,
              "#bd3786"
             ],
             [
              0.5555555555555556,
              "#d8576b"
             ],
             [
              0.6666666666666666,
              "#ed7953"
             ],
             [
              0.7777777777777778,
              "#fb9f3a"
             ],
             [
              0.8888888888888888,
              "#fdca26"
             ],
             [
              1,
              "#f0f921"
             ]
            ],
            "type": "histogram2dcontour"
           }
          ],
          "mesh3d": [
           {
            "colorbar": {
             "outlinewidth": 0,
             "ticks": ""
            },
            "type": "mesh3d"
           }
          ],
          "parcoords": [
           {
            "line": {
             "colorbar": {
              "outlinewidth": 0,
              "ticks": ""
             }
            },
            "type": "parcoords"
           }
          ],
          "pie": [
           {
            "automargin": true,
            "type": "pie"
           }
          ],
          "scatter": [
           {
            "fillpattern": {
             "fillmode": "overlay",
             "size": 10,
             "solidity": 0.2
            },
            "type": "scatter"
           }
          ],
          "scatter3d": [
           {
            "line": {
             "colorbar": {
              "outlinewidth": 0,
              "ticks": ""
             }
            },
            "marker": {
             "colorbar": {
              "outlinewidth": 0,
              "ticks": ""
             }
            },
            "type": "scatter3d"
           }
          ],
          "scattercarpet": [
           {
            "marker": {
             "colorbar": {
              "outlinewidth": 0,
              "ticks": ""
             }
            },
            "type": "scattercarpet"
           }
          ],
          "scattergeo": [
           {
            "marker": {
             "colorbar": {
              "outlinewidth": 0,
              "ticks": ""
             }
            },
            "type": "scattergeo"
           }
          ],
          "scattergl": [
           {
            "marker": {
             "colorbar": {
              "outlinewidth": 0,
              "ticks": ""
             }
            },
            "type": "scattergl"
           }
          ],
          "scattermapbox": [
           {
            "marker": {
             "colorbar": {
              "outlinewidth": 0,
              "ticks": ""
             }
            },
            "type": "scattermapbox"
           }
          ],
          "scatterpolar": [
           {
            "marker": {
             "colorbar": {
              "outlinewidth": 0,
              "ticks": ""
             }
            },
            "type": "scatterpolar"
           }
          ],
          "scatterpolargl": [
           {
            "marker": {
             "colorbar": {
              "outlinewidth": 0,
              "ticks": ""
             }
            },
            "type": "scatterpolargl"
           }
          ],
          "scatterternary": [
           {
            "marker": {
             "colorbar": {
              "outlinewidth": 0,
              "ticks": ""
             }
            },
            "type": "scatterternary"
           }
          ],
          "surface": [
           {
            "colorbar": {
             "outlinewidth": 0,
             "ticks": ""
            },
            "colorscale": [
             [
              0,
              "#0d0887"
             ],
             [
              0.1111111111111111,
              "#46039f"
             ],
             [
              0.2222222222222222,
              "#7201a8"
             ],
             [
              0.3333333333333333,
              "#9c179e"
             ],
             [
              0.4444444444444444,
              "#bd3786"
             ],
             [
              0.5555555555555556,
              "#d8576b"
             ],
             [
              0.6666666666666666,
              "#ed7953"
             ],
             [
              0.7777777777777778,
              "#fb9f3a"
             ],
             [
              0.8888888888888888,
              "#fdca26"
             ],
             [
              1,
              "#f0f921"
             ]
            ],
            "type": "surface"
           }
          ],
          "table": [
           {
            "cells": {
             "fill": {
              "color": "#EBF0F8"
             },
             "line": {
              "color": "white"
             }
            },
            "header": {
             "fill": {
              "color": "#C8D4E3"
             },
             "line": {
              "color": "white"
             }
            },
            "type": "table"
           }
          ]
         },
         "layout": {
          "annotationdefaults": {
           "arrowcolor": "#2a3f5f",
           "arrowhead": 0,
           "arrowwidth": 1
          },
          "autotypenumbers": "strict",
          "coloraxis": {
           "colorbar": {
            "outlinewidth": 0,
            "ticks": ""
           }
          },
          "colorscale": {
           "diverging": [
            [
             0,
             "#8e0152"
            ],
            [
             0.1,
             "#c51b7d"
            ],
            [
             0.2,
             "#de77ae"
            ],
            [
             0.3,
             "#f1b6da"
            ],
            [
             0.4,
             "#fde0ef"
            ],
            [
             0.5,
             "#f7f7f7"
            ],
            [
             0.6,
             "#e6f5d0"
            ],
            [
             0.7,
             "#b8e186"
            ],
            [
             0.8,
             "#7fbc41"
            ],
            [
             0.9,
             "#4d9221"
            ],
            [
             1,
             "#276419"
            ]
           ],
           "sequential": [
            [
             0,
             "#0d0887"
            ],
            [
             0.1111111111111111,
             "#46039f"
            ],
            [
             0.2222222222222222,
             "#7201a8"
            ],
            [
             0.3333333333333333,
             "#9c179e"
            ],
            [
             0.4444444444444444,
             "#bd3786"
            ],
            [
             0.5555555555555556,
             "#d8576b"
            ],
            [
             0.6666666666666666,
             "#ed7953"
            ],
            [
             0.7777777777777778,
             "#fb9f3a"
            ],
            [
             0.8888888888888888,
             "#fdca26"
            ],
            [
             1,
             "#f0f921"
            ]
           ],
           "sequentialminus": [
            [
             0,
             "#0d0887"
            ],
            [
             0.1111111111111111,
             "#46039f"
            ],
            [
             0.2222222222222222,
             "#7201a8"
            ],
            [
             0.3333333333333333,
             "#9c179e"
            ],
            [
             0.4444444444444444,
             "#bd3786"
            ],
            [
             0.5555555555555556,
             "#d8576b"
            ],
            [
             0.6666666666666666,
             "#ed7953"
            ],
            [
             0.7777777777777778,
             "#fb9f3a"
            ],
            [
             0.8888888888888888,
             "#fdca26"
            ],
            [
             1,
             "#f0f921"
            ]
           ]
          },
          "colorway": [
           "#636efa",
           "#EF553B",
           "#00cc96",
           "#ab63fa",
           "#FFA15A",
           "#19d3f3",
           "#FF6692",
           "#B6E880",
           "#FF97FF",
           "#FECB52"
          ],
          "font": {
           "color": "#2a3f5f"
          },
          "geo": {
           "bgcolor": "white",
           "lakecolor": "white",
           "landcolor": "white",
           "showlakes": true,
           "showland": true,
           "subunitcolor": "#C8D4E3"
          },
          "hoverlabel": {
           "align": "left"
          },
          "hovermode": "closest",
          "mapbox": {
           "style": "light"
          },
          "paper_bgcolor": "white",
          "plot_bgcolor": "white",
          "polar": {
           "angularaxis": {
            "gridcolor": "#EBF0F8",
            "linecolor": "#EBF0F8",
            "ticks": ""
           },
           "bgcolor": "white",
           "radialaxis": {
            "gridcolor": "#EBF0F8",
            "linecolor": "#EBF0F8",
            "ticks": ""
           }
          },
          "scene": {
           "xaxis": {
            "backgroundcolor": "white",
            "gridcolor": "#DFE8F3",
            "gridwidth": 2,
            "linecolor": "#EBF0F8",
            "showbackground": true,
            "ticks": "",
            "zerolinecolor": "#EBF0F8"
           },
           "yaxis": {
            "backgroundcolor": "white",
            "gridcolor": "#DFE8F3",
            "gridwidth": 2,
            "linecolor": "#EBF0F8",
            "showbackground": true,
            "ticks": "",
            "zerolinecolor": "#EBF0F8"
           },
           "zaxis": {
            "backgroundcolor": "white",
            "gridcolor": "#DFE8F3",
            "gridwidth": 2,
            "linecolor": "#EBF0F8",
            "showbackground": true,
            "ticks": "",
            "zerolinecolor": "#EBF0F8"
           }
          },
          "shapedefaults": {
           "line": {
            "color": "#2a3f5f"
           }
          },
          "ternary": {
           "aaxis": {
            "gridcolor": "#DFE8F3",
            "linecolor": "#A2B1C6",
            "ticks": ""
           },
           "baxis": {
            "gridcolor": "#DFE8F3",
            "linecolor": "#A2B1C6",
            "ticks": ""
           },
           "bgcolor": "white",
           "caxis": {
            "gridcolor": "#DFE8F3",
            "linecolor": "#A2B1C6",
            "ticks": ""
           }
          },
          "title": {
           "x": 0.05
          },
          "xaxis": {
           "automargin": true,
           "gridcolor": "#EBF0F8",
           "linecolor": "#EBF0F8",
           "ticks": "",
           "title": {
            "standoff": 15
           },
           "zerolinecolor": "#EBF0F8",
           "zerolinewidth": 2
          },
          "yaxis": {
           "automargin": true,
           "gridcolor": "#EBF0F8",
           "linecolor": "#EBF0F8",
           "ticks": "",
           "title": {
            "standoff": 15
           },
           "zerolinecolor": "#EBF0F8",
           "zerolinewidth": 2
          }
         }
        },
        "title": {
         "font": {
          "color": "Black",
          "size": 22
         },
         "text": "<b>Topic Word Scores",
         "x": 0.5,
         "xanchor": "center",
         "yanchor": "top"
        },
        "width": 1200,
        "xaxis": {
         "anchor": "y",
         "domain": [
          0,
          0.24666666666666667
         ],
         "showgrid": true
        },
        "xaxis2": {
         "anchor": "y2",
         "domain": [
          0.3766666666666667,
          0.6233333333333334
         ],
         "showgrid": true
        },
        "xaxis3": {
         "anchor": "y3",
         "domain": [
          0.7533333333333334,
          1
         ],
         "showgrid": true
        },
        "xaxis4": {
         "anchor": "y4",
         "domain": [
          0,
          0.24666666666666667
         ],
         "showgrid": true
        },
        "xaxis5": {
         "anchor": "y5",
         "domain": [
          0.3766666666666667,
          0.6233333333333334
         ],
         "showgrid": true
        },
        "xaxis6": {
         "anchor": "y6",
         "domain": [
          0.7533333333333334,
          1
         ],
         "showgrid": true
        },
        "xaxis7": {
         "anchor": "y7",
         "domain": [
          0,
          0.24666666666666667
         ],
         "showgrid": true
        },
        "xaxis8": {
         "anchor": "y8",
         "domain": [
          0.3766666666666667,
          0.6233333333333334
         ],
         "showgrid": true
        },
        "xaxis9": {
         "anchor": "y9",
         "domain": [
          0.7533333333333334,
          1
         ],
         "showgrid": true
        },
        "yaxis": {
         "anchor": "x",
         "domain": [
          0.7555555555555555,
          1
         ],
         "showgrid": true
        },
        "yaxis2": {
         "anchor": "x2",
         "domain": [
          0.7555555555555555,
          1
         ],
         "showgrid": true
        },
        "yaxis3": {
         "anchor": "x3",
         "domain": [
          0.7555555555555555,
          1
         ],
         "showgrid": true
        },
        "yaxis4": {
         "anchor": "x4",
         "domain": [
          0.37777777777777777,
          0.6222222222222222
         ],
         "showgrid": true
        },
        "yaxis5": {
         "anchor": "x5",
         "domain": [
          0.37777777777777777,
          0.6222222222222222
         ],
         "showgrid": true
        },
        "yaxis6": {
         "anchor": "x6",
         "domain": [
          0.37777777777777777,
          0.6222222222222222
         ],
         "showgrid": true
        },
        "yaxis7": {
         "anchor": "x7",
         "domain": [
          0,
          0.24444444444444446
         ],
         "showgrid": true
        },
        "yaxis8": {
         "anchor": "x8",
         "domain": [
          0,
          0.24444444444444446
         ],
         "showgrid": true
        },
        "yaxis9": {
         "anchor": "x9",
         "domain": [
          0,
          0.24444444444444446
         ],
         "showgrid": true
        }
       }
      },
      "text/html": [
       "<div>                            <div id=\"b89bd77a-21be-4b9b-9316-88f8679f99cc\" class=\"plotly-graph-div\" style=\"height:900px; width:1200px;\"></div>            <script type=\"text/javascript\">                require([\"plotly\"], function(Plotly) {                    window.PLOTLYENV=window.PLOTLYENV || {};                                    if (document.getElementById(\"b89bd77a-21be-4b9b-9316-88f8679f99cc\")) {                    Plotly.newPlot(                        \"b89bd77a-21be-4b9b-9316-88f8679f99cc\",                        [{\"marker\":{\"color\":\"#929591\"},\"orientation\":\"h\",\"x\":[0.028111412256488777,0.0400705380381906,0.044185758099783985,0.10637770544947765,0.12498007798223576],\"y\":[\"intensity  \",\"reduction  \",\"footprint  \",\"emission  \",\"co2  \"],\"type\":\"bar\",\"xaxis\":\"x\",\"yaxis\":\"y\"},{\"marker\":{\"color\":\"#929591\"},\"orientation\":\"h\",\"x\":[0.025552694831623948,0.03630068067583029,0.041887918807445086,0.06705247908477674,0.10449278108739106],\"y\":[\"possibilities  \",\"risk  \",\"climate  \",\"climate risk  \",\"climate change  \"],\"type\":\"bar\",\"xaxis\":\"x2\",\"yaxis\":\"y2\"},{\"marker\":{\"color\":\"#929591\"},\"orientation\":\"h\",\"x\":[0.05242893210763291,0.0934420129280291,0.10359557461916803,0.2097633020870658,0.22713830263564858],\"y\":[\"pension funds  \",\"signed  \",\"international  \",\"irbc  \",\"agreement  \"],\"type\":\"bar\",\"xaxis\":\"x3\",\"yaxis\":\"y3\"},{\"marker\":{\"color\":\"#929591\"},\"orientation\":\"h\",\"x\":[0.059966610390917836,0.06030034089975471,0.06061736440087872,0.07686067749925674,0.15661633253349494],\"y\":[\"anti  \",\"labour rights  \",\"environment  \",\"corruption  \",\"human rights  \"],\"type\":\"bar\",\"xaxis\":\"x4\",\"yaxis\":\"y4\"},{\"marker\":{\"color\":\"#929591\"},\"orientation\":\"h\",\"x\":[0.05159608323721487,0.05489877257054603,0.07383936940703381,0.08960586316988653,0.11145845859402576],\"y\":[\"engagement  \",\"hermes  \",\"voting  \",\"voting right  \",\"shareholder meetings  \"],\"type\":\"bar\",\"xaxis\":\"x5\",\"yaxis\":\"y5\"},{\"marker\":{\"color\":\"#929591\"},\"orientation\":\"h\",\"x\":[0.0493876417913265,0.06583857213718432,0.06740451331721656,0.10321323066131224,0.1739858423742337],\"y\":[\"sustainable  \",\"solar  \",\"renewable  \",\"energy transition  \",\"energy  \"],\"type\":\"bar\",\"xaxis\":\"x6\",\"yaxis\":\"y6\"},{\"marker\":{\"color\":\"#929591\"},\"orientation\":\"h\",\"x\":[0.05181754234975353,0.12883225509958446,0.14412098062314302,0.19484064995007752,0.22656221123873857],\"y\":[\"greenwashing  \",\"projects  \",\"financing  \",\"bonds  \",\"green  \"],\"type\":\"bar\",\"xaxis\":\"x7\",\"yaxis\":\"y7\"},{\"marker\":{\"color\":\"#929591\"},\"orientation\":\"h\",\"x\":[0.05253618130786636,0.07021751475203551,0.08116962957788032,0.08408339415173953,0.17741244006821116],\"y\":[\"having  \",\"companies  \",\"engage  \",\"engagement  \",\"dialogue  \"],\"type\":\"bar\",\"xaxis\":\"x8\",\"yaxis\":\"y8\"},{\"marker\":{\"color\":\"#929591\"},\"orientation\":\"h\",\"x\":[0.06589295685109782,0.06832783480607156,0.06868408701754566,0.09492313553145872,0.19279517099028223],\"y\":[\"nuclear  \",\"chemical  \",\"biological  \",\"controversial  \",\"weapons  \"],\"type\":\"bar\",\"xaxis\":\"x9\",\"yaxis\":\"y9\"}],                        {\"template\":{\"data\":{\"barpolar\":[{\"marker\":{\"line\":{\"color\":\"white\",\"width\":0.5},\"pattern\":{\"fillmode\":\"overlay\",\"size\":10,\"solidity\":0.2}},\"type\":\"barpolar\"}],\"bar\":[{\"error_x\":{\"color\":\"#2a3f5f\"},\"error_y\":{\"color\":\"#2a3f5f\"},\"marker\":{\"line\":{\"color\":\"white\",\"width\":0.5},\"pattern\":{\"fillmode\":\"overlay\",\"size\":10,\"solidity\":0.2}},\"type\":\"bar\"}],\"carpet\":[{\"aaxis\":{\"endlinecolor\":\"#2a3f5f\",\"gridcolor\":\"#C8D4E3\",\"linecolor\":\"#C8D4E3\",\"minorgridcolor\":\"#C8D4E3\",\"startlinecolor\":\"#2a3f5f\"},\"baxis\":{\"endlinecolor\":\"#2a3f5f\",\"gridcolor\":\"#C8D4E3\",\"linecolor\":\"#C8D4E3\",\"minorgridcolor\":\"#C8D4E3\",\"startlinecolor\":\"#2a3f5f\"},\"type\":\"carpet\"}],\"choropleth\":[{\"colorbar\":{\"outlinewidth\":0,\"ticks\":\"\"},\"type\":\"choropleth\"}],\"contourcarpet\":[{\"colorbar\":{\"outlinewidth\":0,\"ticks\":\"\"},\"type\":\"contourcarpet\"}],\"contour\":[{\"colorbar\":{\"outlinewidth\":0,\"ticks\":\"\"},\"colorscale\":[[0.0,\"#0d0887\"],[0.1111111111111111,\"#46039f\"],[0.2222222222222222,\"#7201a8\"],[0.3333333333333333,\"#9c179e\"],[0.4444444444444444,\"#bd3786\"],[0.5555555555555556,\"#d8576b\"],[0.6666666666666666,\"#ed7953\"],[0.7777777777777778,\"#fb9f3a\"],[0.8888888888888888,\"#fdca26\"],[1.0,\"#f0f921\"]],\"type\":\"contour\"}],\"heatmapgl\":[{\"colorbar\":{\"outlinewidth\":0,\"ticks\":\"\"},\"colorscale\":[[0.0,\"#0d0887\"],[0.1111111111111111,\"#46039f\"],[0.2222222222222222,\"#7201a8\"],[0.3333333333333333,\"#9c179e\"],[0.4444444444444444,\"#bd3786\"],[0.5555555555555556,\"#d8576b\"],[0.6666666666666666,\"#ed7953\"],[0.7777777777777778,\"#fb9f3a\"],[0.8888888888888888,\"#fdca26\"],[1.0,\"#f0f921\"]],\"type\":\"heatmapgl\"}],\"heatmap\":[{\"colorbar\":{\"outlinewidth\":0,\"ticks\":\"\"},\"colorscale\":[[0.0,\"#0d0887\"],[0.1111111111111111,\"#46039f\"],[0.2222222222222222,\"#7201a8\"],[0.3333333333333333,\"#9c179e\"],[0.4444444444444444,\"#bd3786\"],[0.5555555555555556,\"#d8576b\"],[0.6666666666666666,\"#ed7953\"],[0.7777777777777778,\"#fb9f3a\"],[0.8888888888888888,\"#fdca26\"],[1.0,\"#f0f921\"]],\"type\":\"heatmap\"}],\"histogram2dcontour\":[{\"colorbar\":{\"outlinewidth\":0,\"ticks\":\"\"},\"colorscale\":[[0.0,\"#0d0887\"],[0.1111111111111111,\"#46039f\"],[0.2222222222222222,\"#7201a8\"],[0.3333333333333333,\"#9c179e\"],[0.4444444444444444,\"#bd3786\"],[0.5555555555555556,\"#d8576b\"],[0.6666666666666666,\"#ed7953\"],[0.7777777777777778,\"#fb9f3a\"],[0.8888888888888888,\"#fdca26\"],[1.0,\"#f0f921\"]],\"type\":\"histogram2dcontour\"}],\"histogram2d\":[{\"colorbar\":{\"outlinewidth\":0,\"ticks\":\"\"},\"colorscale\":[[0.0,\"#0d0887\"],[0.1111111111111111,\"#46039f\"],[0.2222222222222222,\"#7201a8\"],[0.3333333333333333,\"#9c179e\"],[0.4444444444444444,\"#bd3786\"],[0.5555555555555556,\"#d8576b\"],[0.6666666666666666,\"#ed7953\"],[0.7777777777777778,\"#fb9f3a\"],[0.8888888888888888,\"#fdca26\"],[1.0,\"#f0f921\"]],\"type\":\"histogram2d\"}],\"histogram\":[{\"marker\":{\"pattern\":{\"fillmode\":\"overlay\",\"size\":10,\"solidity\":0.2}},\"type\":\"histogram\"}],\"mesh3d\":[{\"colorbar\":{\"outlinewidth\":0,\"ticks\":\"\"},\"type\":\"mesh3d\"}],\"parcoords\":[{\"line\":{\"colorbar\":{\"outlinewidth\":0,\"ticks\":\"\"}},\"type\":\"parcoords\"}],\"pie\":[{\"automargin\":true,\"type\":\"pie\"}],\"scatter3d\":[{\"line\":{\"colorbar\":{\"outlinewidth\":0,\"ticks\":\"\"}},\"marker\":{\"colorbar\":{\"outlinewidth\":0,\"ticks\":\"\"}},\"type\":\"scatter3d\"}],\"scattercarpet\":[{\"marker\":{\"colorbar\":{\"outlinewidth\":0,\"ticks\":\"\"}},\"type\":\"scattercarpet\"}],\"scattergeo\":[{\"marker\":{\"colorbar\":{\"outlinewidth\":0,\"ticks\":\"\"}},\"type\":\"scattergeo\"}],\"scattergl\":[{\"marker\":{\"colorbar\":{\"outlinewidth\":0,\"ticks\":\"\"}},\"type\":\"scattergl\"}],\"scattermapbox\":[{\"marker\":{\"colorbar\":{\"outlinewidth\":0,\"ticks\":\"\"}},\"type\":\"scattermapbox\"}],\"scatterpolargl\":[{\"marker\":{\"colorbar\":{\"outlinewidth\":0,\"ticks\":\"\"}},\"type\":\"scatterpolargl\"}],\"scatterpolar\":[{\"marker\":{\"colorbar\":{\"outlinewidth\":0,\"ticks\":\"\"}},\"type\":\"scatterpolar\"}],\"scatter\":[{\"fillpattern\":{\"fillmode\":\"overlay\",\"size\":10,\"solidity\":0.2},\"type\":\"scatter\"}],\"scatterternary\":[{\"marker\":{\"colorbar\":{\"outlinewidth\":0,\"ticks\":\"\"}},\"type\":\"scatterternary\"}],\"surface\":[{\"colorbar\":{\"outlinewidth\":0,\"ticks\":\"\"},\"colorscale\":[[0.0,\"#0d0887\"],[0.1111111111111111,\"#46039f\"],[0.2222222222222222,\"#7201a8\"],[0.3333333333333333,\"#9c179e\"],[0.4444444444444444,\"#bd3786\"],[0.5555555555555556,\"#d8576b\"],[0.6666666666666666,\"#ed7953\"],[0.7777777777777778,\"#fb9f3a\"],[0.8888888888888888,\"#fdca26\"],[1.0,\"#f0f921\"]],\"type\":\"surface\"}],\"table\":[{\"cells\":{\"fill\":{\"color\":\"#EBF0F8\"},\"line\":{\"color\":\"white\"}},\"header\":{\"fill\":{\"color\":\"#C8D4E3\"},\"line\":{\"color\":\"white\"}},\"type\":\"table\"}]},\"layout\":{\"annotationdefaults\":{\"arrowcolor\":\"#2a3f5f\",\"arrowhead\":0,\"arrowwidth\":1},\"autotypenumbers\":\"strict\",\"coloraxis\":{\"colorbar\":{\"outlinewidth\":0,\"ticks\":\"\"}},\"colorscale\":{\"diverging\":[[0,\"#8e0152\"],[0.1,\"#c51b7d\"],[0.2,\"#de77ae\"],[0.3,\"#f1b6da\"],[0.4,\"#fde0ef\"],[0.5,\"#f7f7f7\"],[0.6,\"#e6f5d0\"],[0.7,\"#b8e186\"],[0.8,\"#7fbc41\"],[0.9,\"#4d9221\"],[1,\"#276419\"]],\"sequential\":[[0.0,\"#0d0887\"],[0.1111111111111111,\"#46039f\"],[0.2222222222222222,\"#7201a8\"],[0.3333333333333333,\"#9c179e\"],[0.4444444444444444,\"#bd3786\"],[0.5555555555555556,\"#d8576b\"],[0.6666666666666666,\"#ed7953\"],[0.7777777777777778,\"#fb9f3a\"],[0.8888888888888888,\"#fdca26\"],[1.0,\"#f0f921\"]],\"sequentialminus\":[[0.0,\"#0d0887\"],[0.1111111111111111,\"#46039f\"],[0.2222222222222222,\"#7201a8\"],[0.3333333333333333,\"#9c179e\"],[0.4444444444444444,\"#bd3786\"],[0.5555555555555556,\"#d8576b\"],[0.6666666666666666,\"#ed7953\"],[0.7777777777777778,\"#fb9f3a\"],[0.8888888888888888,\"#fdca26\"],[1.0,\"#f0f921\"]]},\"colorway\":[\"#636efa\",\"#EF553B\",\"#00cc96\",\"#ab63fa\",\"#FFA15A\",\"#19d3f3\",\"#FF6692\",\"#B6E880\",\"#FF97FF\",\"#FECB52\"],\"font\":{\"color\":\"#2a3f5f\"},\"geo\":{\"bgcolor\":\"white\",\"lakecolor\":\"white\",\"landcolor\":\"white\",\"showlakes\":true,\"showland\":true,\"subunitcolor\":\"#C8D4E3\"},\"hoverlabel\":{\"align\":\"left\"},\"hovermode\":\"closest\",\"mapbox\":{\"style\":\"light\"},\"paper_bgcolor\":\"white\",\"plot_bgcolor\":\"white\",\"polar\":{\"angularaxis\":{\"gridcolor\":\"#EBF0F8\",\"linecolor\":\"#EBF0F8\",\"ticks\":\"\"},\"bgcolor\":\"white\",\"radialaxis\":{\"gridcolor\":\"#EBF0F8\",\"linecolor\":\"#EBF0F8\",\"ticks\":\"\"}},\"scene\":{\"xaxis\":{\"backgroundcolor\":\"white\",\"gridcolor\":\"#DFE8F3\",\"gridwidth\":2,\"linecolor\":\"#EBF0F8\",\"showbackground\":true,\"ticks\":\"\",\"zerolinecolor\":\"#EBF0F8\"},\"yaxis\":{\"backgroundcolor\":\"white\",\"gridcolor\":\"#DFE8F3\",\"gridwidth\":2,\"linecolor\":\"#EBF0F8\",\"showbackground\":true,\"ticks\":\"\",\"zerolinecolor\":\"#EBF0F8\"},\"zaxis\":{\"backgroundcolor\":\"white\",\"gridcolor\":\"#DFE8F3\",\"gridwidth\":2,\"linecolor\":\"#EBF0F8\",\"showbackground\":true,\"ticks\":\"\",\"zerolinecolor\":\"#EBF0F8\"}},\"shapedefaults\":{\"line\":{\"color\":\"#2a3f5f\"}},\"ternary\":{\"aaxis\":{\"gridcolor\":\"#DFE8F3\",\"linecolor\":\"#A2B1C6\",\"ticks\":\"\"},\"baxis\":{\"gridcolor\":\"#DFE8F3\",\"linecolor\":\"#A2B1C6\",\"ticks\":\"\"},\"bgcolor\":\"white\",\"caxis\":{\"gridcolor\":\"#DFE8F3\",\"linecolor\":\"#A2B1C6\",\"ticks\":\"\"}},\"title\":{\"x\":0.05},\"xaxis\":{\"automargin\":true,\"gridcolor\":\"#EBF0F8\",\"linecolor\":\"#EBF0F8\",\"ticks\":\"\",\"title\":{\"standoff\":15},\"zerolinecolor\":\"#EBF0F8\",\"zerolinewidth\":2},\"yaxis\":{\"automargin\":true,\"gridcolor\":\"#EBF0F8\",\"linecolor\":\"#EBF0F8\",\"ticks\":\"\",\"title\":{\"standoff\":15},\"zerolinecolor\":\"#EBF0F8\",\"zerolinewidth\":2}}},\"xaxis\":{\"anchor\":\"y\",\"domain\":[0.0,0.24666666666666667],\"showgrid\":true},\"yaxis\":{\"anchor\":\"x\",\"domain\":[0.7555555555555555,1.0],\"showgrid\":true},\"xaxis2\":{\"anchor\":\"y2\",\"domain\":[0.3766666666666667,0.6233333333333334],\"showgrid\":true},\"yaxis2\":{\"anchor\":\"x2\",\"domain\":[0.7555555555555555,1.0],\"showgrid\":true},\"xaxis3\":{\"anchor\":\"y3\",\"domain\":[0.7533333333333334,1.0],\"showgrid\":true},\"yaxis3\":{\"anchor\":\"x3\",\"domain\":[0.7555555555555555,1.0],\"showgrid\":true},\"xaxis4\":{\"anchor\":\"y4\",\"domain\":[0.0,0.24666666666666667],\"showgrid\":true},\"yaxis4\":{\"anchor\":\"x4\",\"domain\":[0.37777777777777777,0.6222222222222222],\"showgrid\":true},\"xaxis5\":{\"anchor\":\"y5\",\"domain\":[0.3766666666666667,0.6233333333333334],\"showgrid\":true},\"yaxis5\":{\"anchor\":\"x5\",\"domain\":[0.37777777777777777,0.6222222222222222],\"showgrid\":true},\"xaxis6\":{\"anchor\":\"y6\",\"domain\":[0.7533333333333334,1.0],\"showgrid\":true},\"yaxis6\":{\"anchor\":\"x6\",\"domain\":[0.37777777777777777,0.6222222222222222],\"showgrid\":true},\"xaxis7\":{\"anchor\":\"y7\",\"domain\":[0.0,0.24666666666666667],\"showgrid\":true},\"yaxis7\":{\"anchor\":\"x7\",\"domain\":[0.0,0.24444444444444446],\"showgrid\":true},\"xaxis8\":{\"anchor\":\"y8\",\"domain\":[0.3766666666666667,0.6233333333333334],\"showgrid\":true},\"yaxis8\":{\"anchor\":\"x8\",\"domain\":[0.0,0.24444444444444446],\"showgrid\":true},\"xaxis9\":{\"anchor\":\"y9\",\"domain\":[0.7533333333333334,1.0],\"showgrid\":true},\"yaxis9\":{\"anchor\":\"x9\",\"domain\":[0.0,0.24444444444444446],\"showgrid\":true},\"annotations\":[{\"font\":{\"size\":16},\"showarrow\":false,\"text\":\"co2 emissions\",\"x\":0.12333333333333334,\"xanchor\":\"center\",\"xref\":\"paper\",\"y\":1.0,\"yanchor\":\"bottom\",\"yref\":\"paper\"},{\"font\":{\"size\":16},\"showarrow\":false,\"text\":\"climate\",\"x\":0.5,\"xanchor\":\"center\",\"xref\":\"paper\",\"y\":1.0,\"yanchor\":\"bottom\",\"yref\":\"paper\"},{\"font\":{\"size\":16},\"showarrow\":false,\"text\":\"IRBC\",\"x\":0.8766666666666667,\"xanchor\":\"center\",\"xref\":\"paper\",\"y\":1.0,\"yanchor\":\"bottom\",\"yref\":\"paper\"},{\"font\":{\"size\":16},\"showarrow\":false,\"text\":\"human rights\",\"x\":0.12333333333333334,\"xanchor\":\"center\",\"xref\":\"paper\",\"y\":0.6222222222222222,\"yanchor\":\"bottom\",\"yref\":\"paper\"},{\"font\":{\"size\":16},\"showarrow\":false,\"text\":\"voting\",\"x\":0.5,\"xanchor\":\"center\",\"xref\":\"paper\",\"y\":0.6222222222222222,\"yanchor\":\"bottom\",\"yref\":\"paper\"},{\"font\":{\"size\":16},\"showarrow\":false,\"text\":\"energy transition\",\"x\":0.8766666666666667,\"xanchor\":\"center\",\"xref\":\"paper\",\"y\":0.6222222222222222,\"yanchor\":\"bottom\",\"yref\":\"paper\"},{\"font\":{\"size\":16},\"showarrow\":false,\"text\":\"green bonds\",\"x\":0.12333333333333334,\"xanchor\":\"center\",\"xref\":\"paper\",\"y\":0.24444444444444446,\"yanchor\":\"bottom\",\"yref\":\"paper\"},{\"font\":{\"size\":16},\"showarrow\":false,\"text\":\"engagement\",\"x\":0.5,\"xanchor\":\"center\",\"xref\":\"paper\",\"y\":0.24444444444444446,\"yanchor\":\"bottom\",\"yref\":\"paper\"},{\"font\":{\"size\":16},\"showarrow\":false,\"text\":\"weapons\",\"x\":0.8766666666666667,\"xanchor\":\"center\",\"xref\":\"paper\",\"y\":0.24444444444444446,\"yanchor\":\"bottom\",\"yref\":\"paper\"}],\"title\":{\"font\":{\"size\":22,\"color\":\"Black\"},\"text\":\"<b>Topic Word Scores\",\"x\":0.5,\"xanchor\":\"center\",\"yanchor\":\"top\"},\"hoverlabel\":{\"font\":{\"size\":12,\"family\":\"Rockwell\"},\"bgcolor\":\"white\"},\"showlegend\":false,\"width\":1200,\"height\":900},                        {\"responsive\": true}                    ).then(function(){\n",
       "                            \n",
       "var gd = document.getElementById('b89bd77a-21be-4b9b-9316-88f8679f99cc');\n",
       "var x = new MutationObserver(function (mutations, observer) {{\n",
       "        var display = window.getComputedStyle(gd).display;\n",
       "        if (!display || display === 'none') {{\n",
       "            console.log([gd, 'removed!']);\n",
       "            Plotly.purge(gd);\n",
       "            observer.disconnect();\n",
       "        }}\n",
       "}});\n",
       "\n",
       "// Listen for the removal of the full notebook cells\n",
       "var notebookContainer = gd.closest('#notebook-container');\n",
       "if (notebookContainer) {{\n",
       "    x.observe(notebookContainer, {childList: true});\n",
       "}}\n",
       "\n",
       "// Listen for the clearing of the current output cell\n",
       "var outputEl = gd.closest('.output');\n",
       "if (outputEl) {{\n",
       "    x.observe(outputEl, {childList: true});\n",
       "}}\n",
       "\n",
       "                        })                };                });            </script>        </div>"
      ]
     },
     "metadata": {},
     "output_type": "display_data"
    }
   ],
   "source": [
    "#Create custom label for selection of topics and visualize\n",
    "new_labels = {2:'CO2_uitstoot',4:'klimaat',6:'PRI',7:'IMVB',17:'mensenrechten',18:'stemmen',19:'energietransitie',30:'groene obligaties',25:'engagement',13:'wapens'}\n",
    "topic_model.set_topic_labels(new_labels)\n",
    "visualize_barchart(topic_model,topics=[2,4,7,17,18,19,30,25,13],custom_labels=True)\n"
   ]
  },
  {
   "cell_type": "code",
   "execution_count": null,
   "id": "9708b2ae",
   "metadata": {},
   "outputs": [],
   "source": []
  },
  {
   "cell_type": "code",
   "execution_count": 7,
   "id": "23da74e0",
   "metadata": {},
   "outputs": [],
   "source": [
    "# #Calculate number of pension funds that report on selection of topics in certain year\n",
    "dfm = pd.DataFrame(columns=list(df['dc:coverage'].unique()))\n",
    "for topic in new_labels.keys():\n",
    "    for year in df['dc:coverage'].unique():\n",
    "        dfm.loc[new_labels[topic],year] = len(df[(df['dc:coverage']==year)&(df['topic_number']==topic)]['dc:creator'].unique())"
   ]
  },
  {
   "cell_type": "code",
   "execution_count": 8,
   "id": "d0f1daf1",
   "metadata": {},
   "outputs": [
    {
     "ename": "NameError",
     "evalue": "name 'dashList' is not defined",
     "output_type": "error",
     "traceback": [
      "\u001b[1;31m---------------------------------------------------------------------------\u001b[0m",
      "\u001b[1;31mNameError\u001b[0m                                 Traceback (most recent call last)",
      "\u001b[1;32m<ipython-input-8-211ca3aed917>\u001b[0m in \u001b[0;36m<module>\u001b[1;34m\u001b[0m\n\u001b[0;32m      5\u001b[0m \u001b[0mframe1\u001b[0m\u001b[1;33m.\u001b[0m\u001b[0maxes\u001b[0m\u001b[1;33m.\u001b[0m\u001b[0mxaxis\u001b[0m\u001b[1;33m.\u001b[0m\u001b[0mset_ticklabels\u001b[0m\u001b[1;33m(\u001b[0m\u001b[1;33m[\u001b[0m\u001b[1;33m]\u001b[0m\u001b[1;33m)\u001b[0m \u001b[1;31m# hide x axis numbers\u001b[0m\u001b[1;33m\u001b[0m\u001b[1;33m\u001b[0m\u001b[0m\n\u001b[0;32m      6\u001b[0m \u001b[0mplt\u001b[0m\u001b[1;33m.\u001b[0m\u001b[0mxlim\u001b[0m\u001b[1;33m(\u001b[0m\u001b[1;36m0\u001b[0m\u001b[1;33m,\u001b[0m\u001b[1;36m6\u001b[0m\u001b[1;33m)\u001b[0m \u001b[1;31m# set x and y axis extents\u001b[0m\u001b[1;33m\u001b[0m\u001b[1;33m\u001b[0m\u001b[0m\n\u001b[1;32m----> 7\u001b[1;33m \u001b[0mplt\u001b[0m\u001b[1;33m.\u001b[0m\u001b[0mylim\u001b[0m\u001b[1;33m(\u001b[0m\u001b[1;33m-\u001b[0m\u001b[1;36m0.5\u001b[0m\u001b[1;33m,\u001b[0m\u001b[0mlen\u001b[0m\u001b[1;33m(\u001b[0m\u001b[0mdashList\u001b[0m\u001b[1;33m)\u001b[0m\u001b[1;33m-\u001b[0m\u001b[1;36m0.5\u001b[0m\u001b[1;33m)\u001b[0m\u001b[1;33m\u001b[0m\u001b[1;33m\u001b[0m\u001b[0m\n\u001b[0m\u001b[0;32m      8\u001b[0m \u001b[0mplt\u001b[0m\u001b[1;33m.\u001b[0m\u001b[0mylabel\u001b[0m\u001b[1;33m(\u001b[0m\u001b[1;34m\"dashList element\"\u001b[0m\u001b[1;33m)\u001b[0m \u001b[1;31m# add a label to the y axis\u001b[0m\u001b[1;33m\u001b[0m\u001b[1;33m\u001b[0m\u001b[0m\n\u001b[0;32m      9\u001b[0m \u001b[1;33m\u001b[0m\u001b[0m\n",
      "\u001b[1;31mNameError\u001b[0m: name 'dashList' is not defined"
     ]
    },
    {
     "data": {
      "image/png": "[encoded data removed]",
      "text/plain": [
       "<Figure size 432x288 with 1 Axes>"
      ]
     },
     "metadata": {
      "needs_background": "light"
     },
     "output_type": "display_data"
    }
   ],
   "source": [
    "\n",
    "# List of Dash styles, each as integers in the format: (first line length, first space length, second line length, second space length...)\n",
    "\n",
    "# set up the axes to look nice:\n",
    "frame1 = plt.gca() \n",
    "frame1.axes.xaxis.set_ticklabels([]) # hide x axis numbers\n",
    "plt.xlim(0,6) # set x and y axis extents\n",
    "plt.ylim(-0.5,len(dashList)-0.5)\n",
    "plt.ylabel(\"dashList element\") # add a label to the y axis\n",
    "\n",
    "for n in range(0,len(dashList)):\n",
    "    plt.plot([0.5,4],[n,n], color = 'black', linestyle='--', dashes=dashList[n]) # plot a horizontal line using each custom line style\n",
    "    # NB plot.plt draws a line between the following points: ([x0,x1],[y0,y1])\n",
    "    plt.text(4.5,n,dashList[n]) # ...and show the numbers used to generate each custom linestyle\n",
    "plt.show()"
   ]
  },
  {
   "cell_type": "code",
   "execution_count": null,
   "id": "bdc26cf6",
   "metadata": {},
   "outputs": [],
   "source": [
    "dict_style['CO2_uitstoot']"
   ]
  },
  {
   "cell_type": "code",
   "execution_count": null,
   "id": "28197cd5",
   "metadata": {},
   "outputs": [],
   "source": [
    "dict_nlen = {'CO2_uitstoot':'CO2 emissions','IMVB':'IRBC','groene obligaties':'green bonds','stemmen':'voting','mensenrechten':'human rights'}\n",
    "list_en = ['CO2 emissions','IRBC','green bonds','voting','human rights']\n",
    "#dict_style = {'CO2_uitstoot':'solid','IMVB':'dashed','groene obligaties':'dotted','stemmen':'dashdot'}\n",
    "dict_style = {'CO2_uitstoot':(5,2),'IMVB':(2,5),'groene obligaties':(4,10),'stemmen':(3,3,2,2),'mensenrechten':(5,2,20,2)}\n",
    "plt.figure(figsize=[20,12])\n",
    "#for ind in ['CO2_uitstoot','IMVB','groene obligaties','stemmen','mensenrechten']:\n",
    "for ind in ['CO2_uitstoot','IMVB','groene obligaties','stemmen','mensenrechten']:\n",
    "    #plt.plot(['2016','2017','2018','2019','2020','2021'],dfm.loc[ind,[2016,2017,2018,2019,2020,2021]].values,label=dict_nlen[ind],linewidth=4,linestyle=dict_style[ind])\n",
    "    plt.plot(['2016','2017','2018','2019','2020','2021'],dfm.loc[ind,[2016,2017,2018,2019,2020,2021]].values,linestyle='--',dashes=dict_style[ind],color='black',label=dict_nlen[ind],linewidth=3)\n",
    "plt.legend(fontsize=18)\n",
    "plt.xlabel('Year',fontsize=18)\n",
    "plt.xticks(fontsize=16)\n",
    "plt.ylabel('Number of pension funds',fontsize=18)\n",
    "plt.yticks(fontsize=16)\n",
    "plt.show()\n",
    "plt.close()"
   ]
  },
  {
   "cell_type": "code",
   "execution_count": null,
   "id": "4d784e42",
   "metadata": {},
   "outputs": [],
   "source": [
    "dict_nlen = {'CO2_uitstoot':'CO2 emissions','IMVB':'IRBC','groene obligaties':'green bonds','stemmen':'voting','mensenrechten':'human rights'}\n",
    "list_en = ['CO2 emissions','IRBC','green bonds','voting','human rights']\n",
    "#dict_style = {'CO2_uitstoot':'solid','IMVB':'dashed','groene obligaties':'dotted','stemmen':'dashdot'}\n",
    "dict_style = {'CO2_uitstoot':'k-','IMVB':'k--','groene obligaties':'k-.','stemmen':'k:','mensenrechten':'k.'}\n",
    "plt.figure(figsize=[20,12])\n",
    "dict_names = {...}\n",
    "#for ind in ['CO2_uitstoot','IMVB','groene obligaties','stemmen','mensenrechten']:\n",
    "for ind in ['CO2_uitstoot','IMVB','groene obligaties','stemmen']:#,'mensenrechten']:\n",
    "    #plt.plot(['2016','2017','2018','2019','2020','2021'],dfm.loc[ind,[2016,2017,2018,2019,2020,2021]].values,label=dict_nlen[ind],linewidth=4,linestyle=dict_style[ind])\n",
    "    plt.plot(['2016','2017','2018','2019','2020','2021'],dfm.loc[ind,[2016,2017,2018,2019,2020,2021]].values,dict_style[ind],label=dict_nlen[ind],linewidth=3)\n",
    "plt.legend(fontsize=20)\n",
    "plt.xlabel('Year',fontsize=24)\n",
    "plt.xticks(fontsize=20)\n",
    "plt.ylabel('Number of pension funds',fontsize=24)\n",
    "plt.yticks(fontsize=20)\n",
    "plt.show()\n",
    "plt.close()"
   ]
  },
  {
   "cell_type": "code",
   "execution_count": null,
   "id": "26353860",
   "metadata": {},
   "outputs": [],
   "source": [
    "#GRAPH DIRK\n",
    "\n",
    "new_labels = {2:'CO2_uitstoot',4:'klimaat',9:'esg integratie',16:'esg risico management',30:'groene obligaties'}\n",
    "# #Calculate number of pension funds that report on selection of topics in certain year\n",
    "dfm = pd.DataFrame(columns=list(df['dc:coverage'].unique()))\n",
    "for topic in new_labels.keys():\n",
    "    for year in df['dc:coverage'].unique():\n",
    "        dfm.loc[new_labels[topic],year] = len(df[(df['dc:coverage']==year)&(df['topic_number']==topic)]['dc:creator'].unique())\n",
    "\n",
    "dict_nlen = {'CO2_uitstoot':'CO2 emissions','groene obligaties':'green bonds','klimaat':'climate','esg risico management':'ESG risk management','esg integratie':'ESG integration'}\n",
    "list_en = ['CO2 emissions','climate','green bonds','ESG risk management','ESG integration']\n",
    "plt.figure(figsize=[20,12])\n",
    "dict_names = {...}\n",
    "for ind in ['CO2_uitstoot','klimaat','groene obligaties','esg risico management','esg integratie']:\n",
    "    plt.plot(['2016','2017','2018','2019','2020','2021'],dfm.loc[ind,[2016,2017,2018,2019,2020,2021]].values,label=dict_nlen[ind],linewidth=4)\n",
    "plt.legend(fontsize=18)\n",
    "plt.xlabel('Year',fontsize=18)\n",
    "plt.xticks(fontsize=16)\n",
    "plt.ylabel('Number of pension funds',fontsize=18)\n",
    "plt.yticks(fontsize=16)\n",
    "plt.show()\n",
    "plt.close()"
   ]
  },
  {
   "cell_type": "code",
   "execution_count": null,
   "id": "c66ab48b",
   "metadata": {},
   "outputs": [],
   "source": [
    "dfm"
   ]
  },
  {
   "cell_type": "code",
   "execution_count": null,
   "id": "c082b639",
   "metadata": {},
   "outputs": [],
   "source": [
    "#topic_model = BERTopic.load(MODEL_PATH + \"bertopic_model_mvb_reducedtopics_new\",embedding_model=\"paraphrase-multilingual-MiniLM-L12-v2\")\n",
    "#topic_model.get_topic_info()"
   ]
  },
  {
   "cell_type": "code",
   "execution_count": null,
   "id": "44ac884c",
   "metadata": {},
   "outputs": [],
   "source": []
  },
  {
   "cell_type": "code",
   "execution_count": null,
   "id": "739bb068",
   "metadata": {},
   "outputs": [],
   "source": []
  },
  {
   "cell_type": "markdown",
   "id": "82e7ff43",
   "metadata": {},
   "source": [
    "### OLD"
   ]
  },
  {
   "cell_type": "code",
   "execution_count": null,
   "id": "823bf4bf",
   "metadata": {},
   "outputs": [],
   "source": [
    "# #Create dataframe with occurence topics for every document\n",
    "# dfr = pd.DataFrame(columns=list(topic_model.get_topic_info()['Topic']))\n",
    "# for doc in df['dc:source'].unique():\n",
    "#     temp = df[df['dc:source']==doc]\n",
    "#     pf = temp['dc:creator'].iloc[0]\n",
    "#     year = temp['dc:coverage'].iloc[0]\n",
    "#     dict_topics = temp.groupby(by=['topic_number'])['topic_number'].count().to_dict()\n",
    "#     for topic in dict_topics.keys():\n",
    "#         dfr.loc[pf+'_'+str(year),topic] = dict_topics[topic]        "
   ]
  },
  {
   "cell_type": "code",
   "execution_count": null,
   "id": "1d8f0ebf",
   "metadata": {},
   "outputs": [],
   "source": [
    "# #Create dictionary with occurence topic for every pension fund and every year\n",
    "# dft = {}\n",
    "# for topic in list(topic_model.get_topic_info()['Topic']):\n",
    "#     dft[topic] = pd.DataFrame(columns=list(df['dc:coverage'].unique()))\n",
    "#     for doc in df['dc:source'].unique():\n",
    "#         temp = df[(df['dc:source']==doc)&(df['topic_number']==topic)]\n",
    "#         if len(temp)>0:\n",
    "#             pf = temp['dc:creator'].iloc[0]\n",
    "#             year = temp['dc:coverage'].iloc[0]\n",
    "#             dft[topic].loc[pf,year] = len(temp)"
   ]
  },
  {
   "cell_type": "code",
   "execution_count": null,
   "id": "fc8ec2fc",
   "metadata": {},
   "outputs": [],
   "source": [
    "# #Calculate number of pension funds that report on topic in certain year\n",
    "# dfm = pd.DataFrame(columns=list(df['dc:coverage'].unique()))\n",
    "# for topic in dft.keys():\n",
    "#     for year in df['dc:coverage'].unique():\n",
    "#         dfm.loc[topic,year] = dft[topic][year].count()    "
   ]
  },
  {
   "cell_type": "code",
   "execution_count": null,
   "id": "45488df3",
   "metadata": {},
   "outputs": [],
   "source": [
    "# relevant_topics = [0,1,3,7,10,13,14,17,20,21,24]\n",
    "# new_labels = {0:'exclusions',1:'UNPRI',3:'CO2 emissions',7:'SDGs',10:'IMVB',13:'GRESB',14:'ESG_risicomanagement',17:'ESG_risico_rendement',20:'engagement',21:'esg_integratie',24:'voting'}\n",
    "# topic_model.set_topic_labels(new_labels)\n",
    "# topic_model.get_topic_info().head()\n",
    "# topic_model.save(MODEL_PATH + \"bertopic_model_mvb3_reducedtopics_customlabels\")"
   ]
  },
  {
   "cell_type": "code",
   "execution_count": null,
   "id": "ee6c8981",
   "metadata": {},
   "outputs": [],
   "source": [
    "# dfm = dfm.astype(int)\n",
    "# dfmt = dfm[dfm.index.isin(list(new_labels.keys()))]"
   ]
  },
  {
   "cell_type": "code",
   "execution_count": null,
   "id": "8258d33d",
   "metadata": {},
   "outputs": [],
   "source": [
    "# #Create dataframe with occurence topics for every document\n",
    "# dfr = pd.DataFrame(columns=list(topic_model.get_topic_info()['Topic']))\n",
    "# for doc in df['dc:source'].unique():\n",
    "#     temp = df[df['dc:source']==doc]\n",
    "#     pf = temp['dc:creator'].iloc[0]\n",
    "#     year = temp['dc:coverage'].iloc[0]\n",
    "#     dict_topics = temp.groupby(by=['topic_number'])['topic_number'].count().to_dict()\n",
    "#     for topic in dict_topics.keys():\n",
    "#         dfr.loc[pf+'_'+str(year),topic] = dict_topics[topic]        "
   ]
  },
  {
   "cell_type": "code",
   "execution_count": null,
   "id": "358ca3cd",
   "metadata": {},
   "outputs": [],
   "source": [
    "# #Create dataframe with amount of relevant topics present for every pension fund for every year\n",
    "# dfa = pd.DataFrame()\n",
    "# for pf in df['dc:creator'].unique():\n",
    "#     for year in df['dc:coverage'].unique():\n",
    "#         temp = df[(df['dc:creator']==pf)&(df['dc:coverage']==year)&(df['topic_number'].isin(relevant_topics))]\n",
    "#         dfa.loc[pf,year] = len(temp['topic_number'].unique())"
   ]
  },
  {
   "cell_type": "code",
   "execution_count": null,
   "id": "438968cb",
   "metadata": {},
   "outputs": [],
   "source": [
    "#To do:\n",
    "#most important topics for every year\n",
    "#most important topics for every pension fund (all years or 1 year)"
   ]
  },
  {
   "cell_type": "markdown",
   "id": "de1eb2b6",
   "metadata": {},
   "source": [
    "### Visualise results"
   ]
  },
  {
   "cell_type": "code",
   "execution_count": null,
   "id": "276362ee",
   "metadata": {},
   "outputs": [],
   "source": [
    "# visualize_barchart(topic_model,topics=[0,1,3,7,20,24],custom_labels=True, top_n_topics=6)"
   ]
  },
  {
   "cell_type": "code",
   "execution_count": null,
   "id": "2f30f32f",
   "metadata": {},
   "outputs": [],
   "source": [
    "# new_labels = {0:'uitsluitingen',1:'UNPRI',3:'CO2',7:'SDGs',10:'IMVB',13:'GRESB',14:'ESG_risicomanagement',17:'ESG_risico_rendement',20:'engagement_dialoog',21:'esg_integratie',24:'engagement_stembeleid'}\n",
    "# topic_model.set_topic_labels(new_labels)"
   ]
  },
  {
   "cell_type": "code",
   "execution_count": null,
   "id": "a4bf24f2",
   "metadata": {},
   "outputs": [],
   "source": [
    "# #topic_model.visualize_topics()\n",
    "# #topic_model.visualize_heatmap()\n",
    "# topic_model.visualize_barchart(topics=[0,1,3,7,17,20,21,24])\n",
    "\n",
    "# temp = dfmt.loc[[0,1,3,7,20,24],:]\n",
    "# plt.figure(figsize=[10,7])\n",
    "# for ind in temp.index:\n",
    "#     plt.plot(['2016','2017','2018','2019','2020'],temp.loc[ind,[2016,2017,2018,2019,2020]].values,label=new_labels[ind])\n",
    "# plt.legend()\n",
    "# plt.xlabel('Year')\n",
    "# plt.ylabel('Number of pension funds')\n",
    "# plt.title('Most important topics over time')\n",
    "# plt.show()\n",
    "# plt.close()"
   ]
  },
  {
   "cell_type": "code",
   "execution_count": null,
   "id": "4516ba82",
   "metadata": {},
   "outputs": [],
   "source": []
  },
  {
   "cell_type": "markdown",
   "id": "e2fb2269",
   "metadata": {},
   "source": [
    "### Save results to excel"
   ]
  },
  {
   "cell_type": "code",
   "execution_count": null,
   "id": "32e4bdd0",
   "metadata": {},
   "outputs": [],
   "source": [
    "# writer = pd.ExcelWriter(OUTPUT_DATA_PATH + \"output_BERTopic.xlsx\",engine='xlsxwriter')\n",
    "# topic_model.get_topic_info().to_excel(writer,sheet_name='topic_info')\n",
    "# dfr.to_excel(writer,sheet_name='document_topics')\n",
    "# dfa.to_excel(writer,sheet_name='pf_year')\n",
    "# dfm.to_excel(writer,sheet_name='topics_year')\n",
    "# for topic in dft.keys():\n",
    "#     dft[topic].to_excel(writer,sheet_name=str(topic))\n",
    "# writer.save()"
   ]
  },
  {
   "cell_type": "code",
   "execution_count": null,
   "id": "2824d37c",
   "metadata": {},
   "outputs": [],
   "source": []
  },
  {
   "cell_type": "code",
   "execution_count": null,
   "id": "67cbab38",
   "metadata": {},
   "outputs": [],
   "source": [
    "#Save results to output"
   ]
  },
  {
   "cell_type": "code",
   "execution_count": null,
   "id": "d72a9b4a",
   "metadata": {},
   "outputs": [],
   "source": []
  },
  {
   "cell_type": "code",
   "execution_count": null,
   "id": "29917c37",
   "metadata": {},
   "outputs": [],
   "source": [
    "import numpy as np\n",
    "import matplotlib.pyplot as plt\n",
    "\n",
    "linestyle_str = [\n",
    "     ('solid', 'solid'),      # Same as (0, ()) or '-'\n",
    "     ('dotted', 'dotted'),    # Same as (0, (1, 1)) or ':'\n",
    "     ('dashed', 'dashed'),    # Same as '--'\n",
    "     ('dashdot', 'dashdot')]  # Same as '-.'\n",
    "\n",
    "linestyle_tuple = [\n",
    "     ('loosely dotted',        (0, (1, 10))),\n",
    "     ('dotted',                (0, (1, 1))),\n",
    "     ('densely dotted',        (0, (1, 1))),\n",
    "     ('long dash with offset', (5, (10, 3))),\n",
    "     ('loosely dashed',        (0, (5, 10))),\n",
    "     ('dashed',                (0, (5, 5))),\n",
    "     ('densely dashed',        (0, (5, 1))),\n",
    "\n",
    "     ('loosely dashdotted',    (0, (3, 10, 1, 10))),\n",
    "     ('dashdotted',            (0, (3, 5, 1, 5))),\n",
    "     ('densely dashdotted',    (0, (3, 1, 1, 1))),\n",
    "\n",
    "     ('dashdotdotted',         (0, (3, 5, 1, 5, 1, 5))),\n",
    "     ('loosely dashdotdotted', (0, (3, 10, 1, 10, 1, 10))),\n",
    "     ('densely dashdotdotted', (0, (3, 1, 1, 1, 1, 1)))]\n",
    "\n",
    "\n",
    "def plot_linestyles(ax, linestyles, title):\n",
    "    X, Y = np.linspace(0, 100, 10), np.zeros(10)\n",
    "    yticklabels = []\n",
    "\n",
    "    for i, (name, linestyle) in enumerate(linestyles):\n",
    "        ax.plot(X, Y+i, linestyle=linestyle, linewidth=1.5, color='black')\n",
    "        yticklabels.append(name)\n",
    "\n",
    "    ax.set_title(title)\n",
    "    ax.set(ylim=(-0.5, len(linestyles)-0.5),\n",
    "           yticks=np.arange(len(linestyles)),\n",
    "           yticklabels=yticklabels)\n",
    "    ax.tick_params(left=False, bottom=False, labelbottom=False)\n",
    "    ax.spines[:].set_visible(False)\n",
    "\n",
    "    # For each line style, add a text annotation with a small offset from\n",
    "    # the reference point (0 in Axes coords, y tick value in Data coords).\n",
    "    for i, (name, linestyle) in enumerate(linestyles):\n",
    "        ax.annotate(repr(linestyle),\n",
    "                    xy=(0.0, i), xycoords=ax.get_yaxis_transform(),\n",
    "                    xytext=(-6, -12), textcoords='offset points',\n",
    "                    color=\"blue\", fontsize=8, ha=\"right\", family=\"monospace\")\n",
    "\n",
    "\n",
    "fig, (ax0, ax1) = plt.subplots(2, 1, figsize=(10, 8), height_ratios=[1, 3])\n",
    "\n",
    "plot_linestyles(ax0, linestyle_str[::-1], title='Named linestyles')\n",
    "plot_linestyles(ax1, linestyle_tuple[::-1], title='Parametrized linestyles')\n",
    "\n",
    "plt.tight_layout()\n",
    "plt.show()"
   ]
  }
 ],
 "metadata": {
  "kernelspec": {
   "display_name": "Python 3",
   "language": "python",
   "name": "python3"
  },
  "language_info": {
   "codemirror_mode": {
    "name": "ipython",
    "version": 3
   },
   "file_extension": ".py",
   "mimetype": "text/x-python",
   "name": "python",
   "nbconvert_exporter": "python",
   "pygments_lexer": "ipython3",
   "version": "3.8.8"
  },
  "vscode": {
   "interpreter": {
    "hash": "4fd2337481a9c9b1575af40d6830e6c982d367f692652ca4814c63d85624682b"
   }
  }
 },
 "nbformat": 4,
 "nbformat_minor": 5
}
